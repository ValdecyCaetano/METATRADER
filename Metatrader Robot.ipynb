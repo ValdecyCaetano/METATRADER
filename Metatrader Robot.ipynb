{
 "cells": [
  {
   "cell_type": "code",
   "execution_count": null,
   "id": "e7f9fcf4",
   "metadata": {},
   "outputs": [],
   "source": [
    "import pandas as pd                     \n",
    "import numpy as np                      \n",
    "import MetaTrader5 as mt5               \n",
    "import talib.abstract as ta            \n",
    "import datetime as dt                   \n",
    "import time                             \n"
   ]
  },
  {
   "cell_type": "code",
   "execution_count": 2,
   "id": "faaa8649",
   "metadata": {},
   "outputs": [
    {
     "ename": "NameError",
     "evalue": "name 'mt5' is not defined",
     "output_type": "error",
     "traceback": [
      "\u001b[1;31m---------------------------------------------------------------------------\u001b[0m",
      "\u001b[1;31mNameError\u001b[0m                                 Traceback (most recent call last)",
      "\u001b[1;32mC:\\Users\\VALDEC~1\\AppData\\Local\\Temp/ipykernel_13664/1864635280.py\u001b[0m in \u001b[0;36m<module>\u001b[1;34m\u001b[0m\n\u001b[0;32m     17\u001b[0m \u001b[1;31m# Definição de parâmetros.\u001b[0m\u001b[1;33m\u001b[0m\u001b[1;33m\u001b[0m\u001b[0m\n\u001b[0;32m     18\u001b[0m \u001b[0mativo\u001b[0m \u001b[1;33m=\u001b[0m \u001b[1;34m'PETR4'\u001b[0m                         \u001b[1;31m# Ativo escolhido. Deve seguir a mesma formatação de como é mostrado no MetaTrader5.\u001b[0m\u001b[1;33m\u001b[0m\u001b[1;33m\u001b[0m\u001b[0m\n\u001b[1;32m---> 19\u001b[1;33m \u001b[0mintervalo\u001b[0m \u001b[1;33m=\u001b[0m \u001b[0mmt5\u001b[0m\u001b[1;33m.\u001b[0m\u001b[0mTIMEFRAME_M15\u001b[0m           \u001b[1;31m# Constante utilizada pelo MetaTrader5 para intervalo de 15 minutos.\u001b[0m\u001b[1;33m\u001b[0m\u001b[1;33m\u001b[0m\u001b[0m\n\u001b[0m\u001b[0;32m     20\u001b[0m \u001b[0minicio\u001b[0m \u001b[1;33m=\u001b[0m \u001b[0mdt\u001b[0m\u001b[1;33m.\u001b[0m\u001b[0mdatetime\u001b[0m\u001b[1;33m(\u001b[0m\u001b[1;36m2021\u001b[0m\u001b[1;33m,\u001b[0m \u001b[1;36m1\u001b[0m\u001b[1;33m,\u001b[0m \u001b[1;36m4\u001b[0m\u001b[1;33m)\u001b[0m        \u001b[1;31m# Data inicial. Para fins de exemplo, utilizamos dia 04/01/2021.\u001b[0m\u001b[1;33m\u001b[0m\u001b[1;33m\u001b[0m\u001b[0m\n\u001b[0;32m     21\u001b[0m \u001b[0mfinal\u001b[0m \u001b[1;33m=\u001b[0m \u001b[0mdt\u001b[0m\u001b[1;33m.\u001b[0m\u001b[0mdatetime\u001b[0m\u001b[1;33m.\u001b[0m\u001b[0mnow\u001b[0m\u001b[1;33m(\u001b[0m\u001b[1;33m)\u001b[0m               \u001b[1;31m# Data e hora finais. Como a ideia é atualizar dinamicamente, usaremos o momento atual.\u001b[0m\u001b[1;33m\u001b[0m\u001b[1;33m\u001b[0m\u001b[0m\n",
      "\u001b[1;31mNameError\u001b[0m: name 'mt5' is not defined"
     ]
    }
   ],
   "source": [
    "def baixar_dados_historicos(ativo, intervalo, inicio, final):\n",
    "    \"\"\"Faz o download dos dados com base nos parâmetros definidos, formata os dados, e salva na pasta do projeto em formato CSV.\"\"\"\n",
    "\n",
    "    # Faz o download dos dados com base nos parâmetros definidos.\n",
    "    mt5_dados_historicos = mt5.copy_rates_range(ativo, intervalo, inicio, final)\n",
    "\n",
    "    # Formata os dados.\n",
    "    dados_historicos = pd.DataFrame(mt5_dados_historicos)\n",
    "    dados_historicos.rename(columns={'time': 'Date', 'open': 'Open','high': 'High', 'low': 'Low', 'close': 'Close', 'tick_volume': 'Volume'}, inplace=True)\n",
    "    dados_historicos['Date'] = pd.to_datetime(dados_historicos['Date'], unit='s')\n",
    "    dados_historicos.set_index('Date', inplace=True)\n",
    "    dados_historicos.drop(columns=['spread', 'real_volume'], inplace=True)\n",
    "\n",
    "    # Retorna os valores históricos em formato de objeto DataFrame.\n",
    "    return dados_historicos\n",
    "\n",
    "# Definição de parâmetros.\n",
    "ativo = 'PETR4'                         # Ativo escolhido. Deve seguir a mesma formatação de como é mostrado no MetaTrader5.\n",
    "intervalo = mt5.TIMEFRAME_M15           # Constante utilizada pelo MetaTrader5 para intervalo de 15 minutos.\n",
    "inicio = dt.datetime(2021, 1, 4)        # Data inicial. Para fins de exemplo, utilizamos dia 04/01/2021.\n",
    "final = dt.datetime.now()               # Data e hora finais. Como a ideia é atualizar dinamicamente, usaremos o momento atual.\n",
    "\n",
    "# Execução do MetaTrader5.\n",
    "if not mt5.initialize():\n",
    "    mt5.shutdown()\n",
    "\n",
    "# Verifica se o ativo escolhido está disponível/habilitado na plataforma do MetaTrader5.\n",
    "ativos_disponiveis = mt5.symbols_get(group='*' + ativo + '*')\n",
    "if ativo in ativo in [ativos_disponiveis[n].name for n in range(len(ativos_disponiveis))]:\n",
    "    mt5.symbol_select(ativo, True)\n",
    "else:\n",
    "    print('Ativo selecionado inválido. Verifique se o mesmo está disponível na plataforma do MetaTrader5.')\n",
    "\n",
    "# Execução da função definida acima.\n",
    "dados_historicos = baixar_dados_historicos(ativo, intervalo, inicio, final)"
   ]
  },
  {
   "cell_type": "code",
   "execution_count": null,
   "id": "7bb7a4fe",
   "metadata": {},
   "outputs": [],
   "source": []
  }
 ],
 "metadata": {
  "kernelspec": {
   "display_name": "Python 3 (ipykernel)",
   "language": "python",
   "name": "python3"
  },
  "language_info": {
   "codemirror_mode": {
    "name": "ipython",
    "version": 3
   },
   "file_extension": ".py",
   "mimetype": "text/x-python",
   "name": "python",
   "nbconvert_exporter": "python",
   "pygments_lexer": "ipython3",
   "version": "3.9.7"
  }
 },
 "nbformat": 4,
 "nbformat_minor": 5
}
