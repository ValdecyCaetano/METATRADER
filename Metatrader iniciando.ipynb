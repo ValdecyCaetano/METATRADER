{
 "cells": [
  {
   "cell_type": "code",
   "execution_count": 21,
   "id": "f86d2ca2",
   "metadata": {},
   "outputs": [
    {
     "name": "stdout",
     "output_type": "stream",
     "text": [
      "Requirement already satisfied: MetaTrader5 in c:\\users\\valdecy jr\\anaconda3\\lib\\site-packages (5.0.37)\n",
      "Requirement already satisfied: numpy>=1.7 in c:\\users\\valdecy jr\\anaconda3\\lib\\site-packages (from MetaTrader5) (1.23.1)\n",
      "Note: you may need to restart the kernel to use updated packages.\n"
     ]
    }
   ],
   "source": [
    "pip install MetaTrader5"
   ]
  },
  {
   "cell_type": "code",
   "execution_count": 22,
   "id": "1bf4c37e",
   "metadata": {},
   "outputs": [
    {
     "name": "stdout",
     "output_type": "stream",
     "text": [
      "Requirement already satisfied: MetaTrader5 in c:\\users\\valdecy jr\\anaconda3\\lib\\site-packages (5.0.37)\n",
      "Requirement already satisfied: numpy>=1.7 in c:\\users\\valdecy jr\\anaconda3\\lib\\site-packages (from MetaTrader5) (1.23.1)\n",
      "Note: you may need to restart the kernel to use updated packages.\n"
     ]
    }
   ],
   "source": [
    "pip install --upgrade MetaTrader5"
   ]
  },
  {
   "cell_type": "code",
   "execution_count": 23,
   "id": "2360edf1",
   "metadata": {},
   "outputs": [
    {
     "name": "stdout",
     "output_type": "stream",
     "text": [
      "Requirement already satisfied: numpy in c:\\users\\valdecy jr\\anaconda3\\lib\\site-packages (1.23.1)Note: you may need to restart the kernel to use updated packages.\n",
      "\n"
     ]
    }
   ],
   "source": [
    "pip install -U numpy"
   ]
  },
  {
   "cell_type": "code",
   "execution_count": 24,
   "id": "430352c3",
   "metadata": {},
   "outputs": [],
   "source": [
    "import MetaTrader5 as mt5\n",
    "import pandas as pd\n",
    "import matplotlib.pyplot as plt\n",
    "%matplotlib inline\n",
    "from datetime import datetime\n",
    "import time\n",
    "import numpy as np\n"
   ]
  },
  {
   "cell_type": "code",
   "execution_count": 25,
   "id": "f5aa3ee8",
   "metadata": {},
   "outputs": [
    {
     "data": {
      "text/plain": [
       "True"
      ]
     },
     "execution_count": 25,
     "metadata": {},
     "output_type": "execute_result"
    }
   ],
   "source": [
    "mt5.initialize()"
   ]
  },
  {
   "cell_type": "code",
   "execution_count": 26,
   "id": "b9e36f09",
   "metadata": {},
   "outputs": [],
   "source": [
    "symbolstotal = mt5.symbols_total()"
   ]
  },
  {
   "cell_type": "code",
   "execution_count": 27,
   "id": "7c0513de",
   "metadata": {},
   "outputs": [
    {
     "name": "stdout",
     "output_type": "stream",
     "text": [
      "Total de Simbolos:  104\n"
     ]
    }
   ],
   "source": [
    "if symbolstotal > 0:\n",
    "    print('Total de Simbolos: ', symbolstotal)\n",
    "else:\n",
    "    print('Simbolos não encontrados')"
   ]
  },
  {
   "cell_type": "code",
   "execution_count": 28,
   "id": "8deb53c4",
   "metadata": {},
   "outputs": [],
   "source": [
    "symbols = mt5.symbols_get()\n",
    "count = 0"
   ]
  },
  {
   "cell_type": "code",
   "execution_count": 29,
   "id": "a2522fc2",
   "metadata": {},
   "outputs": [
    {
     "name": "stdout",
     "output_type": "stream",
     "text": [
      "1. EURUSD\n",
      "2. GBPUSD\n",
      "3. USDCHF\n",
      "4. USDJPY\n",
      "5. USDCNH\n",
      "6. USDRUB\n",
      "7. AUDUSD\n",
      "8. NZDUSD\n",
      "9. USDCAD\n",
      "10. USDSEK\n",
      "11. USDHKD\n",
      "12. USDSGD\n",
      "13. USDNOK\n",
      "14. USDDKK\n",
      "15. USDTRY\n",
      "16. USDZAR\n",
      "17. USDCZK\n",
      "18. USDHUF\n",
      "19. USDPLN\n",
      "20. USDRUR\n",
      "21. AUDCAD\n",
      "22. AUDCHF\n",
      "23. AUDJPY\n",
      "24. AUDNZD\n",
      "25. CADCHF\n",
      "26. CADJPY\n",
      "27. CHFJPY\n",
      "28. EURAUD\n",
      "29. EURCAD\n",
      "30. EURCHF\n",
      "31. EURCZK\n",
      "32. EURDKK\n",
      "33. EURGBP\n",
      "34. EURHKD\n",
      "35. EURHUF\n",
      "36. EURJPY\n",
      "37. EURNOK\n",
      "38. EURNZD\n",
      "39. EURPLN\n",
      "40. EURRUR\n",
      "41. EURRUB\n",
      "42. EURSEK\n",
      "43. EURTRY\n",
      "44. EURZAR\n",
      "45. GBPAUD\n",
      "46. GBPCHF\n",
      "47. GBPJPY\n",
      "48. XAUUSD\n",
      "49. XAUEUR\n",
      "50. XAUAUD\n",
      "51. XAGUSD\n",
      "52. XAGEUR\n",
      "53. GBPCAD\n",
      "54. GBPNOK\n",
      "55. GBPNZD\n",
      "56. GBPPLN\n",
      "57. GBPSEK\n",
      "58. GBPSGD\n",
      "59. GBPZAR\n",
      "60. NZDCAD\n",
      "61. NZDCHF\n",
      "62. NZDJPY\n",
      "63. NZDSGD\n",
      "64. SGDJPY\n",
      "65. XPDUSD\n",
      "66. XPTUSD\n",
      "67. USDGEL\n",
      "68. USDMXN\n",
      "69. EURMXN\n",
      "70. GBPMXN\n",
      "71. CADMXN\n",
      "72. CHFMXN\n",
      "73. MXNJPY\n",
      "74. NZDMXN\n",
      "75. USDCOP\n",
      "76. USDARS\n",
      "77. USDCLP\n",
      "78. AUS200\n",
      "79. FCHI40\n",
      "80. GDAXIm\n",
      "81. HSI50\n",
      "82. ND100m\n",
      "83. NI225\n",
      "84. SP500m\n",
      "85. SPN35\n",
      "86. STOX50\n",
      "87. UK100\n",
      "88. Brent\n",
      "89. Crude\n",
      "90. NatGas\n",
      "91. BRENT_V0\n",
      "92. WTI_U0\n",
      "93. XBRUSD\n",
      "94. XNGUSD\n",
      "95. XTIUSD\n",
      "96. Cocoa_Z0\n",
      "97. Coffee_Z0\n",
      "98. Corn_U0\n",
      "99. Cotton_Z0\n",
      "100. OJ_U0\n",
      "\n"
     ]
    }
   ],
   "source": [
    "for s in symbols:\n",
    "    count +=1\n",
    "    print(\"{}. {}\".format(count, s.name))\n",
    "    if count ==100: break\n",
    "print()"
   ]
  },
  {
   "cell_type": "code",
   "execution_count": 30,
   "id": "8fc40769",
   "metadata": {},
   "outputs": [],
   "source": [
    "symbols = ['EURUSD', 'GBPUSD', 'USDCHF']"
   ]
  },
  {
   "cell_type": "code",
   "execution_count": 31,
   "id": "6edf06d2",
   "metadata": {},
   "outputs": [],
   "source": [
    "data = pd.DataFrame()"
   ]
  },
  {
   "cell_type": "code",
   "execution_count": 32,
   "id": "0053067f",
   "metadata": {},
   "outputs": [],
   "source": [
    "for i in symbols:\n",
    "    rates = mt5.copy_rates_from_pos(i, mt5.TIMEFRAME_M1, 0, 200)\n",
    "    data[i] = [y['close'] for y in rates]"
   ]
  },
  {
   "cell_type": "code",
   "execution_count": 33,
   "id": "16bc1ea5",
   "metadata": {},
   "outputs": [
    {
     "name": "stdout",
     "output_type": "stream",
     "text": [
      "      EURUSD   GBPUSD   USDCHF\n",
      "0    1.02421  1.20292  0.96854\n",
      "1    1.02434  1.20289  0.96864\n",
      "2    1.02445  1.20272  0.96860\n",
      "3    1.02430  1.20279  0.96844\n",
      "4    1.02441  1.20276  0.96855\n",
      "..       ...      ...      ...\n",
      "195  1.01923  1.19699  0.97047\n",
      "196  1.01937  1.19680  0.97059\n",
      "197  1.01932  1.19703  0.97042\n",
      "198  1.01931  1.19692  0.97043\n",
      "199  1.01917  1.19684  0.97048\n",
      "\n",
      "[200 rows x 3 columns]\n"
     ]
    }
   ],
   "source": [
    "print(data)"
   ]
  },
  {
   "cell_type": "code",
   "execution_count": 34,
   "id": "edbd9920",
   "metadata": {},
   "outputs": [
    {
     "data": {
      "text/plain": [
       "<AxesSubplot:>"
      ]
     },
     "execution_count": 34,
     "metadata": {},
     "output_type": "execute_result"
    },
    {
     "data": {
      "image/png": "[encoded data removed]",
      "text/plain": [
       "<Figure size 432x288 with 1 Axes>"
      ]
     },
     "metadata": {
      "needs_background": "light"
     },
     "output_type": "display_data"
    }
   ],
   "source": [
    "data['EURUSD'].plot()"
   ]
  },
  {
   "cell_type": "code",
   "execution_count": 35,
   "id": "c92707f6",
   "metadata": {},
   "outputs": [],
   "source": [
    "def get_ohlc(ativo, timeframe, n=5):\n",
    "    ativo = mt5.copy_rates_from_pos(ativo,timeframe, 0, n)\n",
    "    ativo = pd.DataFrame(ativo)\n",
    "    ativo['time'] = pd.to_datetime(ativo['time'], unit='s')\n",
    "    ativo['Pivot'] = (ativo['high'] + ativo['low'] + ativo['close'])/3\n",
    "    ativo['R1'] = 2*ativo['Pivot'] - ativo['low']\n",
    "    ativo['S1'] = 2*ativo['Pivot'] - ativo['high']\n",
    "    ativo['R2'] = ativo['Pivot'] + (ativo['high'] - ativo['low'])\n",
    "    ativo['S2'] = ativo['Pivot'] - (ativo['high'] - ativo['low'])\n",
    "    ativo['R3'] = ativo['Pivot'] + 2*(ativo['high'] - ativo['low'])\n",
    "    ativo['S3'] = ativo['Pivot'] - 2*(ativo['high'] - ativo['low'])\n",
    "\n",
    "    \n",
    "    ativo.set_index('time', inplace = True)\n",
    "    return ativo"
   ]
  },
  {
   "cell_type": "code",
   "execution_count": 36,
   "id": "4ed87928",
   "metadata": {},
   "outputs": [],
   "source": [
    "ativo = (get_ohlc('EURUSD', mt5.TIMEFRAME_M5))"
   ]
  },
  {
   "cell_type": "code",
   "execution_count": 37,
   "id": "8a90e38d",
   "metadata": {},
   "outputs": [
    {
     "data": {
      "text/html": [
       "<div>\n",
       "<style scoped>\n",
       "    .dataframe tbody tr th:only-of-type {\n",
       "        vertical-align: middle;\n",
       "    }\n",
       "\n",
       "    .dataframe tbody tr th {\n",
       "        vertical-align: top;\n",
       "    }\n",
       "\n",
       "    .dataframe thead th {\n",
       "        text-align: right;\n",
       "    }\n",
       "</style>\n",
       "<table border=\"1\" class=\"dataframe\">\n",
       "  <thead>\n",
       "    <tr style=\"text-align: right;\">\n",
       "      <th></th>\n",
       "      <th>open</th>\n",
       "      <th>high</th>\n",
       "      <th>low</th>\n",
       "      <th>close</th>\n",
       "      <th>tick_volume</th>\n",
       "      <th>spread</th>\n",
       "      <th>real_volume</th>\n",
       "      <th>Pivot</th>\n",
       "      <th>R1</th>\n",
       "      <th>S1</th>\n",
       "      <th>R2</th>\n",
       "      <th>S2</th>\n",
       "      <th>R3</th>\n",
       "      <th>S3</th>\n",
       "    </tr>\n",
       "    <tr>\n",
       "      <th>time</th>\n",
       "      <th></th>\n",
       "      <th></th>\n",
       "      <th></th>\n",
       "      <th></th>\n",
       "      <th></th>\n",
       "      <th></th>\n",
       "      <th></th>\n",
       "      <th></th>\n",
       "      <th></th>\n",
       "      <th></th>\n",
       "      <th></th>\n",
       "      <th></th>\n",
       "      <th></th>\n",
       "      <th></th>\n",
       "    </tr>\n",
       "  </thead>\n",
       "  <tbody>\n",
       "    <tr>\n",
       "      <th>2022-07-20 15:25:00</th>\n",
       "      <td>1.01835</td>\n",
       "      <td>1.01949</td>\n",
       "      <td>1.01824</td>\n",
       "      <td>1.01918</td>\n",
       "      <td>885</td>\n",
       "      <td>0</td>\n",
       "      <td>0</td>\n",
       "      <td>1.018970</td>\n",
       "      <td>1.019700</td>\n",
       "      <td>1.018450</td>\n",
       "      <td>1.020220</td>\n",
       "      <td>1.017720</td>\n",
       "      <td>1.021470</td>\n",
       "      <td>1.016470</td>\n",
       "    </tr>\n",
       "    <tr>\n",
       "      <th>2022-07-20 15:30:00</th>\n",
       "      <td>1.01917</td>\n",
       "      <td>1.01983</td>\n",
       "      <td>1.01901</td>\n",
       "      <td>1.01936</td>\n",
       "      <td>888</td>\n",
       "      <td>0</td>\n",
       "      <td>0</td>\n",
       "      <td>1.019400</td>\n",
       "      <td>1.019790</td>\n",
       "      <td>1.018970</td>\n",
       "      <td>1.020220</td>\n",
       "      <td>1.018580</td>\n",
       "      <td>1.021040</td>\n",
       "      <td>1.017760</td>\n",
       "    </tr>\n",
       "    <tr>\n",
       "      <th>2022-07-20 15:35:00</th>\n",
       "      <td>1.01936</td>\n",
       "      <td>1.01998</td>\n",
       "      <td>1.01936</td>\n",
       "      <td>1.01975</td>\n",
       "      <td>686</td>\n",
       "      <td>0</td>\n",
       "      <td>0</td>\n",
       "      <td>1.019697</td>\n",
       "      <td>1.020033</td>\n",
       "      <td>1.019413</td>\n",
       "      <td>1.020317</td>\n",
       "      <td>1.019077</td>\n",
       "      <td>1.020937</td>\n",
       "      <td>1.018457</td>\n",
       "    </tr>\n",
       "    <tr>\n",
       "      <th>2022-07-20 15:40:00</th>\n",
       "      <td>1.01975</td>\n",
       "      <td>1.01978</td>\n",
       "      <td>1.01876</td>\n",
       "      <td>1.01923</td>\n",
       "      <td>765</td>\n",
       "      <td>0</td>\n",
       "      <td>0</td>\n",
       "      <td>1.019257</td>\n",
       "      <td>1.019753</td>\n",
       "      <td>1.018733</td>\n",
       "      <td>1.020277</td>\n",
       "      <td>1.018237</td>\n",
       "      <td>1.021297</td>\n",
       "      <td>1.017217</td>\n",
       "    </tr>\n",
       "    <tr>\n",
       "      <th>2022-07-20 15:45:00</th>\n",
       "      <td>1.01923</td>\n",
       "      <td>1.01955</td>\n",
       "      <td>1.01907</td>\n",
       "      <td>1.01918</td>\n",
       "      <td>419</td>\n",
       "      <td>0</td>\n",
       "      <td>0</td>\n",
       "      <td>1.019267</td>\n",
       "      <td>1.019463</td>\n",
       "      <td>1.018983</td>\n",
       "      <td>1.019747</td>\n",
       "      <td>1.018787</td>\n",
       "      <td>1.020227</td>\n",
       "      <td>1.018307</td>\n",
       "    </tr>\n",
       "  </tbody>\n",
       "</table>\n",
       "</div>"
      ],
      "text/plain": [
       "                        open     high      low    close  tick_volume  spread  \\\n",
       "time                                                                           \n",
       "2022-07-20 15:25:00  1.01835  1.01949  1.01824  1.01918          885       0   \n",
       "2022-07-20 15:30:00  1.01917  1.01983  1.01901  1.01936          888       0   \n",
       "2022-07-20 15:35:00  1.01936  1.01998  1.01936  1.01975          686       0   \n",
       "2022-07-20 15:40:00  1.01975  1.01978  1.01876  1.01923          765       0   \n",
       "2022-07-20 15:45:00  1.01923  1.01955  1.01907  1.01918          419       0   \n",
       "\n",
       "                     real_volume     Pivot        R1        S1        R2  \\\n",
       "time                                                                       \n",
       "2022-07-20 15:25:00            0  1.018970  1.019700  1.018450  1.020220   \n",
       "2022-07-20 15:30:00            0  1.019400  1.019790  1.018970  1.020220   \n",
       "2022-07-20 15:35:00            0  1.019697  1.020033  1.019413  1.020317   \n",
       "2022-07-20 15:40:00            0  1.019257  1.019753  1.018733  1.020277   \n",
       "2022-07-20 15:45:00            0  1.019267  1.019463  1.018983  1.019747   \n",
       "\n",
       "                           S2        R3        S3  \n",
       "time                                               \n",
       "2022-07-20 15:25:00  1.017720  1.021470  1.016470  \n",
       "2022-07-20 15:30:00  1.018580  1.021040  1.017760  \n",
       "2022-07-20 15:35:00  1.019077  1.020937  1.018457  \n",
       "2022-07-20 15:40:00  1.018237  1.021297  1.017217  \n",
       "2022-07-20 15:45:00  1.018787  1.020227  1.018307  "
      ]
     },
     "execution_count": 37,
     "metadata": {},
     "output_type": "execute_result"
    }
   ],
   "source": [
    "#verifica se está calculando \n",
    "ativo"
   ]
  },
  {
   "cell_type": "code",
   "execution_count": 38,
   "id": "d629f158",
   "metadata": {},
   "outputs": [],
   "source": [
    "#testando se o ativo é valido \n",
    "symbol = 'EURUSD'\n",
    "symbol_info = mt5.symbol_info(symbol)\n",
    "if symbol_info is None:\n",
    "    print(symbol, \"Não encontrato\")\n",
    "    mt5.shutdown()\n",
    "    quit()"
   ]
  },
  {
   "cell_type": "code",
   "execution_count": 39,
   "id": "0bd5fe37",
   "metadata": {},
   "outputs": [],
   "source": [
    "#preparando a ordem compra request  e ordem de venda\n",
    "\n",
    "#########################################################\n",
    "#preparando a ordem \n",
    "lot = 1.0\n",
    "point = mt5.symbol_info(symbol).point\n",
    "price = mt5.symbol_info_tick(symbol).ask\n",
    "desviation = 1\n",
    "request = {\n",
    "    \"action\": mt5.TRADE_ACTION_DEAL,\n",
    "    \"symbol\": symbol,\n",
    "    \"volume\": lot,\n",
    "    \"type\": mt5.ORDER_TYPE_BUY,\n",
    "    \"price\": price,\n",
    "    \"magic\": 234000,\n",
    "    \"desviation\": desviation,\n",
    "    \"comment\": \"prython script open\",\n",
    "    \"type_time\":mt5.ORDER_TIME_GTC,\n",
    "    'type_filling':mt5.ORDER_FILLING_RETURN,\n",
    "    \n",
    "          }"
   ]
  },
  {
   "cell_type": "code",
   "execution_count": 40,
   "id": "bacd47bf",
   "metadata": {},
   "outputs": [],
   "source": [
    "#preparando a ordem de venda \n",
    "lot = 1.0\n",
    "point = mt5.symbol_info(symbol).point\n",
    "price=mt5.symbol_info_tick(symbol).bid\n",
    "desviation = 1\n",
    "request2={\n",
    "    \"action\": mt5.TRADE_ACTION_DEAL,\n",
    "    \"symbol\": symbol,\n",
    "    \"volume\": lot,\n",
    "    \"type\": mt5.ORDER_TYPE_SELL,\n",
    "    \"price\": price,\n",
    "    \n",
    "    \"deviation\": desviation,\n",
    "    \"magic\": 234000,\n",
    "    \"comment\": \"python script close\",\n",
    "    \"type_time\": mt5.ORDER_TIME_GTC,\n",
    "    \"type_filling\": mt5.ORDER_FILLING_RETURN,\n",
    "}"
   ]
  },
  {
   "cell_type": "code",
   "execution_count": 41,
   "id": "0f3b2409",
   "metadata": {},
   "outputs": [
    {
     "name": "stdout",
     "output_type": "stream",
     "text": [
      "1. Ordem enviada:1.0 de EURUSD ao preço de 1.01922 com desvio de 1\r"
     ]
    }
   ],
   "source": [
    "#ENVIO de Ordem buy, APENAS UM TESTE PARA SABER SE A COMUNICAÇÃO ENTRE PYTHON E MT5 ESTÁ CORRETA...\n",
    "result = mt5.order_send(request)\n",
    "#verificando a resultado da execulção \n",
    "print(f'1. Ordem enviada:{lot} de {symbol} ao preço de {price} com desvio de {desviation}',end  = '\\r')\n"
   ]
  },
  {
   "cell_type": "code",
   "execution_count": 44,
   "id": "aa826b48",
   "metadata": {},
   "outputs": [
    {
     "name": "stdout",
     "output_type": "stream",
     "text": [
      "1. Ordem VENDA enviada: 1.0 de EURUSD ao preço de 1.01922 com desvio de 15 Falsee0001 False000001 False\r"
     ]
    },
    {
     "ename": "KeyError",
     "evalue": "'time'",
     "output_type": "error",
     "traceback": [
      "\u001b[1;31m---------------------------------------------------------------------------\u001b[0m",
      "\u001b[1;31mKeyError\u001b[0m                                  Traceback (most recent call last)",
      "\u001b[1;32m~\\anaconda3\\lib\\site-packages\\pandas\\core\\indexes\\base.py\u001b[0m in \u001b[0;36mget_loc\u001b[1;34m(self, key, method, tolerance)\u001b[0m\n\u001b[0;32m   3360\u001b[0m             \u001b[1;32mtry\u001b[0m\u001b[1;33m:\u001b[0m\u001b[1;33m\u001b[0m\u001b[1;33m\u001b[0m\u001b[0m\n\u001b[1;32m-> 3361\u001b[1;33m                 \u001b[1;32mreturn\u001b[0m \u001b[0mself\u001b[0m\u001b[1;33m.\u001b[0m\u001b[0m_engine\u001b[0m\u001b[1;33m.\u001b[0m\u001b[0mget_loc\u001b[0m\u001b[1;33m(\u001b[0m\u001b[0mcasted_key\u001b[0m\u001b[1;33m)\u001b[0m\u001b[1;33m\u001b[0m\u001b[1;33m\u001b[0m\u001b[0m\n\u001b[0m\u001b[0;32m   3362\u001b[0m             \u001b[1;32mexcept\u001b[0m \u001b[0mKeyError\u001b[0m \u001b[1;32mas\u001b[0m \u001b[0merr\u001b[0m\u001b[1;33m:\u001b[0m\u001b[1;33m\u001b[0m\u001b[1;33m\u001b[0m\u001b[0m\n",
      "\u001b[1;32m~\\anaconda3\\lib\\site-packages\\pandas\\_libs\\index.pyx\u001b[0m in \u001b[0;36mpandas._libs.index.IndexEngine.get_loc\u001b[1;34m()\u001b[0m\n",
      "\u001b[1;32m~\\anaconda3\\lib\\site-packages\\pandas\\_libs\\index.pyx\u001b[0m in \u001b[0;36mpandas._libs.index.IndexEngine.get_loc\u001b[1;34m()\u001b[0m\n",
      "\u001b[1;32mpandas\\_libs\\hashtable_class_helper.pxi\u001b[0m in \u001b[0;36mpandas._libs.hashtable.PyObjectHashTable.get_item\u001b[1;34m()\u001b[0m\n",
      "\u001b[1;32mpandas\\_libs\\hashtable_class_helper.pxi\u001b[0m in \u001b[0;36mpandas._libs.hashtable.PyObjectHashTable.get_item\u001b[1;34m()\u001b[0m\n",
      "\u001b[1;31mKeyError\u001b[0m: 'time'",
      "\nThe above exception was the direct cause of the following exception:\n",
      "\u001b[1;31mKeyError\u001b[0m                                  Traceback (most recent call last)",
      "\u001b[1;32mC:\\Users\\VALDEC~1\\AppData\\Local\\Temp/ipykernel_8132/2313512368.py\u001b[0m in \u001b[0;36m<module>\u001b[1;34m\u001b[0m\n\u001b[0;32m      4\u001b[0m \u001b[0mtempo\u001b[0m \u001b[1;33m=\u001b[0m \u001b[0mtime\u001b[0m\u001b[1;33m.\u001b[0m\u001b[0mtime\u001b[0m\u001b[1;33m(\u001b[0m\u001b[1;33m)\u001b[0m \u001b[1;33m+\u001b[0m \u001b[1;36m18000\u001b[0m\u001b[1;33m\u001b[0m\u001b[1;33m\u001b[0m\u001b[0m\n\u001b[0;32m      5\u001b[0m \u001b[1;32mwhile\u001b[0m \u001b[0mtime\u001b[0m\u001b[1;33m.\u001b[0m\u001b[0mtime\u001b[0m\u001b[1;33m(\u001b[0m\u001b[1;33m)\u001b[0m \u001b[1;33m<\u001b[0m \u001b[0mtempo\u001b[0m\u001b[1;33m:\u001b[0m\u001b[1;33m\u001b[0m\u001b[1;33m\u001b[0m\u001b[0m\n\u001b[1;32m----> 6\u001b[1;33m     \u001b[0mativo\u001b[0m \u001b[1;33m=\u001b[0m \u001b[1;33m(\u001b[0m\u001b[0mget_ohlc\u001b[0m\u001b[1;33m(\u001b[0m\u001b[1;34m'EURUSD'\u001b[0m\u001b[1;33m,\u001b[0m \u001b[0mmt5\u001b[0m\u001b[1;33m.\u001b[0m\u001b[0mTIMEFRAME_M5\u001b[0m\u001b[1;33m)\u001b[0m\u001b[1;33m)\u001b[0m\u001b[1;33m\u001b[0m\u001b[1;33m\u001b[0m\u001b[0m\n\u001b[0m\u001b[0;32m      7\u001b[0m     \u001b[0mtick\u001b[0m \u001b[1;33m=\u001b[0m \u001b[0mmt5\u001b[0m\u001b[1;33m.\u001b[0m\u001b[0msymbol_info_tick\u001b[0m\u001b[1;33m(\u001b[0m\u001b[1;34m'EURUSD'\u001b[0m\u001b[1;33m)\u001b[0m\u001b[1;33m\u001b[0m\u001b[1;33m\u001b[0m\u001b[0m\n\u001b[0;32m      8\u001b[0m     \u001b[0mprint\u001b[0m \u001b[1;33m(\u001b[0m\u001b[1;34mf'EURUSD - ultimo valor: {tick.last}, Topo do Book C: {tick.bid},Topo do Book V: {tick.ask}'\u001b[0m\u001b[1;33m,\u001b[0m \u001b[0mtick\u001b[0m\u001b[1;33m.\u001b[0m\u001b[0mlast\u001b[0m\u001b[1;33m>\u001b[0m\u001b[0mativo\u001b[0m\u001b[1;33m[\u001b[0m\u001b[1;34m'Pivot'\u001b[0m\u001b[1;33m]\u001b[0m\u001b[1;33m[\u001b[0m\u001b[1;33m-\u001b[0m\u001b[1;36m1\u001b[0m \u001b[1;33m-\u001b[0m\u001b[1;36m1\u001b[0m\u001b[1;33m]\u001b[0m\u001b[1;33m,\u001b[0m \u001b[0mend\u001b[0m  \u001b[1;33m=\u001b[0m \u001b[1;34m'\\r'\u001b[0m\u001b[1;33m)\u001b[0m\u001b[1;33m\u001b[0m\u001b[1;33m\u001b[0m\u001b[0m\n",
      "\u001b[1;32mC:\\Users\\VALDEC~1\\AppData\\Local\\Temp/ipykernel_8132/4139719811.py\u001b[0m in \u001b[0;36mget_ohlc\u001b[1;34m(ativo, timeframe, n)\u001b[0m\n\u001b[0;32m      2\u001b[0m     \u001b[0mativo\u001b[0m \u001b[1;33m=\u001b[0m \u001b[0mmt5\u001b[0m\u001b[1;33m.\u001b[0m\u001b[0mcopy_rates_from_pos\u001b[0m\u001b[1;33m(\u001b[0m\u001b[0mativo\u001b[0m\u001b[1;33m,\u001b[0m\u001b[0mtimeframe\u001b[0m\u001b[1;33m,\u001b[0m \u001b[1;36m0\u001b[0m\u001b[1;33m,\u001b[0m \u001b[0mn\u001b[0m\u001b[1;33m)\u001b[0m\u001b[1;33m\u001b[0m\u001b[1;33m\u001b[0m\u001b[0m\n\u001b[0;32m      3\u001b[0m     \u001b[0mativo\u001b[0m \u001b[1;33m=\u001b[0m \u001b[0mpd\u001b[0m\u001b[1;33m.\u001b[0m\u001b[0mDataFrame\u001b[0m\u001b[1;33m(\u001b[0m\u001b[0mativo\u001b[0m\u001b[1;33m)\u001b[0m\u001b[1;33m\u001b[0m\u001b[1;33m\u001b[0m\u001b[0m\n\u001b[1;32m----> 4\u001b[1;33m     \u001b[0mativo\u001b[0m\u001b[1;33m[\u001b[0m\u001b[1;34m'time'\u001b[0m\u001b[1;33m]\u001b[0m \u001b[1;33m=\u001b[0m \u001b[0mpd\u001b[0m\u001b[1;33m.\u001b[0m\u001b[0mto_datetime\u001b[0m\u001b[1;33m(\u001b[0m\u001b[0mativo\u001b[0m\u001b[1;33m[\u001b[0m\u001b[1;34m'time'\u001b[0m\u001b[1;33m]\u001b[0m\u001b[1;33m,\u001b[0m \u001b[0munit\u001b[0m\u001b[1;33m=\u001b[0m\u001b[1;34m's'\u001b[0m\u001b[1;33m)\u001b[0m\u001b[1;33m\u001b[0m\u001b[1;33m\u001b[0m\u001b[0m\n\u001b[0m\u001b[0;32m      5\u001b[0m     \u001b[0mativo\u001b[0m\u001b[1;33m[\u001b[0m\u001b[1;34m'Pivot'\u001b[0m\u001b[1;33m]\u001b[0m \u001b[1;33m=\u001b[0m \u001b[1;33m(\u001b[0m\u001b[0mativo\u001b[0m\u001b[1;33m[\u001b[0m\u001b[1;34m'high'\u001b[0m\u001b[1;33m]\u001b[0m \u001b[1;33m+\u001b[0m \u001b[0mativo\u001b[0m\u001b[1;33m[\u001b[0m\u001b[1;34m'low'\u001b[0m\u001b[1;33m]\u001b[0m \u001b[1;33m+\u001b[0m \u001b[0mativo\u001b[0m\u001b[1;33m[\u001b[0m\u001b[1;34m'close'\u001b[0m\u001b[1;33m]\u001b[0m\u001b[1;33m)\u001b[0m\u001b[1;33m/\u001b[0m\u001b[1;36m3\u001b[0m\u001b[1;33m\u001b[0m\u001b[1;33m\u001b[0m\u001b[0m\n\u001b[0;32m      6\u001b[0m     \u001b[0mativo\u001b[0m\u001b[1;33m[\u001b[0m\u001b[1;34m'R1'\u001b[0m\u001b[1;33m]\u001b[0m \u001b[1;33m=\u001b[0m \u001b[1;36m2\u001b[0m\u001b[1;33m*\u001b[0m\u001b[0mativo\u001b[0m\u001b[1;33m[\u001b[0m\u001b[1;34m'Pivot'\u001b[0m\u001b[1;33m]\u001b[0m \u001b[1;33m-\u001b[0m \u001b[0mativo\u001b[0m\u001b[1;33m[\u001b[0m\u001b[1;34m'low'\u001b[0m\u001b[1;33m]\u001b[0m\u001b[1;33m\u001b[0m\u001b[1;33m\u001b[0m\u001b[0m\n",
      "\u001b[1;32m~\\anaconda3\\lib\\site-packages\\pandas\\core\\frame.py\u001b[0m in \u001b[0;36m__getitem__\u001b[1;34m(self, key)\u001b[0m\n\u001b[0;32m   3456\u001b[0m             \u001b[1;32mif\u001b[0m \u001b[0mself\u001b[0m\u001b[1;33m.\u001b[0m\u001b[0mcolumns\u001b[0m\u001b[1;33m.\u001b[0m\u001b[0mnlevels\u001b[0m \u001b[1;33m>\u001b[0m \u001b[1;36m1\u001b[0m\u001b[1;33m:\u001b[0m\u001b[1;33m\u001b[0m\u001b[1;33m\u001b[0m\u001b[0m\n\u001b[0;32m   3457\u001b[0m                 \u001b[1;32mreturn\u001b[0m \u001b[0mself\u001b[0m\u001b[1;33m.\u001b[0m\u001b[0m_getitem_multilevel\u001b[0m\u001b[1;33m(\u001b[0m\u001b[0mkey\u001b[0m\u001b[1;33m)\u001b[0m\u001b[1;33m\u001b[0m\u001b[1;33m\u001b[0m\u001b[0m\n\u001b[1;32m-> 3458\u001b[1;33m             \u001b[0mindexer\u001b[0m \u001b[1;33m=\u001b[0m \u001b[0mself\u001b[0m\u001b[1;33m.\u001b[0m\u001b[0mcolumns\u001b[0m\u001b[1;33m.\u001b[0m\u001b[0mget_loc\u001b[0m\u001b[1;33m(\u001b[0m\u001b[0mkey\u001b[0m\u001b[1;33m)\u001b[0m\u001b[1;33m\u001b[0m\u001b[1;33m\u001b[0m\u001b[0m\n\u001b[0m\u001b[0;32m   3459\u001b[0m             \u001b[1;32mif\u001b[0m \u001b[0mis_integer\u001b[0m\u001b[1;33m(\u001b[0m\u001b[0mindexer\u001b[0m\u001b[1;33m)\u001b[0m\u001b[1;33m:\u001b[0m\u001b[1;33m\u001b[0m\u001b[1;33m\u001b[0m\u001b[0m\n\u001b[0;32m   3460\u001b[0m                 \u001b[0mindexer\u001b[0m \u001b[1;33m=\u001b[0m \u001b[1;33m[\u001b[0m\u001b[0mindexer\u001b[0m\u001b[1;33m]\u001b[0m\u001b[1;33m\u001b[0m\u001b[1;33m\u001b[0m\u001b[0m\n",
      "\u001b[1;32m~\\anaconda3\\lib\\site-packages\\pandas\\core\\indexes\\base.py\u001b[0m in \u001b[0;36mget_loc\u001b[1;34m(self, key, method, tolerance)\u001b[0m\n\u001b[0;32m   3361\u001b[0m                 \u001b[1;32mreturn\u001b[0m \u001b[0mself\u001b[0m\u001b[1;33m.\u001b[0m\u001b[0m_engine\u001b[0m\u001b[1;33m.\u001b[0m\u001b[0mget_loc\u001b[0m\u001b[1;33m(\u001b[0m\u001b[0mcasted_key\u001b[0m\u001b[1;33m)\u001b[0m\u001b[1;33m\u001b[0m\u001b[1;33m\u001b[0m\u001b[0m\n\u001b[0;32m   3362\u001b[0m             \u001b[1;32mexcept\u001b[0m \u001b[0mKeyError\u001b[0m \u001b[1;32mas\u001b[0m \u001b[0merr\u001b[0m\u001b[1;33m:\u001b[0m\u001b[1;33m\u001b[0m\u001b[1;33m\u001b[0m\u001b[0m\n\u001b[1;32m-> 3363\u001b[1;33m                 \u001b[1;32mraise\u001b[0m \u001b[0mKeyError\u001b[0m\u001b[1;33m(\u001b[0m\u001b[0mkey\u001b[0m\u001b[1;33m)\u001b[0m \u001b[1;32mfrom\u001b[0m \u001b[0merr\u001b[0m\u001b[1;33m\u001b[0m\u001b[1;33m\u001b[0m\u001b[0m\n\u001b[0m\u001b[0;32m   3364\u001b[0m \u001b[1;33m\u001b[0m\u001b[0m\n\u001b[0;32m   3365\u001b[0m         \u001b[1;32mif\u001b[0m \u001b[0mis_scalar\u001b[0m\u001b[1;33m(\u001b[0m\u001b[0mkey\u001b[0m\u001b[1;33m)\u001b[0m \u001b[1;32mand\u001b[0m \u001b[0misna\u001b[0m\u001b[1;33m(\u001b[0m\u001b[0mkey\u001b[0m\u001b[1;33m)\u001b[0m \u001b[1;32mand\u001b[0m \u001b[1;32mnot\u001b[0m \u001b[0mself\u001b[0m\u001b[1;33m.\u001b[0m\u001b[0mhasnans\u001b[0m\u001b[1;33m:\u001b[0m\u001b[1;33m\u001b[0m\u001b[1;33m\u001b[0m\u001b[0m\n",
      "\u001b[1;31mKeyError\u001b[0m: 'time'"
     ]
    }
   ],
   "source": [
    "# EXECULÇÃO DO BOT PIVOTPOINT \n",
    "# ANTES DE EXECUTAR ESSA CELULA CERTIFIQUE QUE NENHUMA ORDEM ESTEJA ABERTA.\n",
    "\n",
    "tempo = time.time() + 18000\n",
    "while time.time() < tempo:\n",
    "    ativo = (get_ohlc('EURUSD', mt5.TIMEFRAME_M5))\n",
    "    tick = mt5.symbol_info_tick('EURUSD')\n",
    "    print (f'EURUSD - ultimo valor: {tick.last}, Topo do Book C: {tick.bid},Topo do Book V: {tick.ask}', tick.last>ativo['Pivot'][-1 -1], end  = '\\r')\n",
    "    if tick.last> ativo['Pivot'][-1 -1]:\n",
    "        if mt5.positions_get(symbol=\"EURUSD\") == () or mt5.positions_get(symbol=\"EURUSD\")[0][5] == 1:\n",
    "            #enviadno ordem de compra \n",
    "            result = mt5.order_send(request)\n",
    "            print(f'1. Ordem COMPRA enviada:{lot} de {symbol} ao preço de {price} com desvio de {desviation}',end  = '\\r')\n",
    "\n",
    "    if tick.last <ativo['S1'][-1 -1]:\n",
    "        \n",
    "        if mt5.positions_get(symbol=\"EURUSD\") == () or mt5.positions_get(symbol=\"EURUSD\")[0][5] == 0:\n",
    "            #enviadno ordem de venda \n",
    "            result = mt5.order_send(request2)\n",
    "        #verificando a resultado da execulção \n",
    "            print(f'1. Ordem VENDA enviada: {lot} de {symbol} ao preço de {price} com desvio de {desviation}',end  = '\\r')\n",
    "        \n",
    "    time.sleep(0.10)"
   ]
  },
  {
   "cell_type": "code",
   "execution_count": null,
   "id": "cd3b3505",
   "metadata": {},
   "outputs": [],
   "source": []
  }
 ],
 "metadata": {
  "kernelspec": {
   "display_name": "Python 3 (ipykernel)",
   "language": "python",
   "name": "python3"
  },
  "language_info": {
   "codemirror_mode": {
    "name": "ipython",
    "version": 3
   },
   "file_extension": ".py",
   "mimetype": "text/x-python",
   "name": "python",
   "nbconvert_exporter": "python",
   "pygments_lexer": "ipython3",
   "version": "3.9.7"
  }
 },
 "nbformat": 4,
 "nbformat_minor": 5
}
