{
 "cells": [
  {
   "cell_type": "code",
   "execution_count": 14,
   "id": "f86d2ca2",
   "metadata": {},
   "outputs": [
    {
     "name": "stdout",
     "output_type": "stream",
     "text": [
      "Requirement already satisfied: MetaTrader5 in c:\\users\\valdecy jr\\anaconda3\\lib\\site-packages (5.0.37)\n",
      "Requirement already satisfied: numpy>=1.7 in c:\\users\\valdecy jr\\anaconda3\\lib\\site-packages (from MetaTrader5) (1.23.1)\n",
      "Note: you may need to restart the kernel to use updated packages.\n"
     ]
    }
   ],
   "source": [
    "pip install MetaTrader5"
   ]
  },
  {
   "cell_type": "code",
   "execution_count": 15,
   "id": "1bf4c37e",
   "metadata": {},
   "outputs": [
    {
     "name": "stdout",
     "output_type": "stream",
     "text": [
      "Requirement already satisfied: MetaTrader5 in c:\\users\\valdecy jr\\anaconda3\\lib\\site-packages (5.0.37)\n",
      "Requirement already satisfied: numpy>=1.7 in c:\\users\\valdecy jr\\anaconda3\\lib\\site-packages (from MetaTrader5) (1.23.1)\n",
      "Note: you may need to restart the kernel to use updated packages.\n"
     ]
    }
   ],
   "source": [
    "pip install --upgrade MetaTrader5"
   ]
  },
  {
   "cell_type": "code",
   "execution_count": 16,
   "id": "2360edf1",
   "metadata": {},
   "outputs": [
    {
     "name": "stdout",
     "output_type": "stream",
     "text": [
      "Requirement already satisfied: numpy in c:\\users\\valdecy jr\\anaconda3\\lib\\site-packages (1.23.1)\n",
      "Note: you may need to restart the kernel to use updated packages.\n"
     ]
    }
   ],
   "source": [
    "pip install -U numpy"
   ]
  },
  {
   "cell_type": "code",
   "execution_count": 17,
   "id": "430352c3",
   "metadata": {},
   "outputs": [],
   "source": [
    "import MetaTrader5 as mt5\n",
    "import pandas as pd\n",
    "import matplotlib.pyplot as plt"
   ]
  },
  {
   "cell_type": "code",
   "execution_count": 18,
   "id": "f5aa3ee8",
   "metadata": {},
   "outputs": [
    {
     "data": {
      "text/plain": [
       "True"
      ]
     },
     "execution_count": 18,
     "metadata": {},
     "output_type": "execute_result"
    }
   ],
   "source": [
    "mt5.initialize()"
   ]
  },
  {
   "cell_type": "code",
   "execution_count": 19,
   "id": "b9e36f09",
   "metadata": {},
   "outputs": [],
   "source": [
    "symbolstotal = mt5.symbols_total()"
   ]
  },
  {
   "cell_type": "code",
   "execution_count": 20,
   "id": "7c0513de",
   "metadata": {},
   "outputs": [
    {
     "name": "stdout",
     "output_type": "stream",
     "text": [
      "Total de Simbolos:  104\n"
     ]
    }
   ],
   "source": [
    "if symbolstotal > 0:\n",
    "    print('Total de Simbolos: ', symbolstotal)\n",
    "else:\n",
    "    print('Simbolos não encontrados')"
   ]
  },
  {
   "cell_type": "code",
   "execution_count": 21,
   "id": "8deb53c4",
   "metadata": {},
   "outputs": [],
   "source": [
    "symbols = mt5.symbols_get()\n",
    "count = 0"
   ]
  },
  {
   "cell_type": "code",
   "execution_count": 22,
   "id": "a2522fc2",
   "metadata": {},
   "outputs": [
    {
     "name": "stdout",
     "output_type": "stream",
     "text": [
      "1. EURUSD\n",
      "2. GBPUSD\n",
      "3. USDCHF\n",
      "4. USDJPY\n",
      "5. USDCNH\n",
      "6. USDRUB\n",
      "7. AUDUSD\n",
      "8. NZDUSD\n",
      "9. USDCAD\n",
      "10. USDSEK\n",
      "11. USDHKD\n",
      "12. USDSGD\n",
      "13. USDNOK\n",
      "14. USDDKK\n",
      "15. USDTRY\n",
      "16. USDZAR\n",
      "17. USDCZK\n",
      "18. USDHUF\n",
      "19. USDPLN\n",
      "20. USDRUR\n",
      "21. AUDCAD\n",
      "22. AUDCHF\n",
      "23. AUDJPY\n",
      "24. AUDNZD\n",
      "25. CADCHF\n",
      "26. CADJPY\n",
      "27. CHFJPY\n",
      "28. EURAUD\n",
      "29. EURCAD\n",
      "30. EURCHF\n",
      "31. EURCZK\n",
      "32. EURDKK\n",
      "33. EURGBP\n",
      "34. EURHKD\n",
      "35. EURHUF\n",
      "36. EURJPY\n",
      "37. EURNOK\n",
      "38. EURNZD\n",
      "39. EURPLN\n",
      "40. EURRUR\n",
      "41. EURRUB\n",
      "42. EURSEK\n",
      "43. EURTRY\n",
      "44. EURZAR\n",
      "45. GBPAUD\n",
      "46. GBPCHF\n",
      "47. GBPJPY\n",
      "48. XAUUSD\n",
      "49. XAUEUR\n",
      "50. XAUAUD\n",
      "51. XAGUSD\n",
      "52. XAGEUR\n",
      "53. GBPCAD\n",
      "54. GBPNOK\n",
      "55. GBPNZD\n",
      "56. GBPPLN\n",
      "57. GBPSEK\n",
      "58. GBPSGD\n",
      "59. GBPZAR\n",
      "60. NZDCAD\n",
      "61. NZDCHF\n",
      "62. NZDJPY\n",
      "63. NZDSGD\n",
      "64. SGDJPY\n",
      "65. XPDUSD\n",
      "66. XPTUSD\n",
      "67. USDGEL\n",
      "68. USDMXN\n",
      "69. EURMXN\n",
      "70. GBPMXN\n",
      "71. CADMXN\n",
      "72. CHFMXN\n",
      "73. MXNJPY\n",
      "74. NZDMXN\n",
      "75. USDCOP\n",
      "76. USDARS\n",
      "77. USDCLP\n",
      "78. AUS200\n",
      "79. FCHI40\n",
      "80. GDAXIm\n",
      "81. HSI50\n",
      "82. ND100m\n",
      "83. NI225\n",
      "84. SP500m\n",
      "85. SPN35\n",
      "86. STOX50\n",
      "87. UK100\n",
      "88. Brent\n",
      "89. Crude\n",
      "90. NatGas\n",
      "91. BRENT_V0\n",
      "92. WTI_U0\n",
      "93. XBRUSD\n",
      "94. XNGUSD\n",
      "95. XTIUSD\n",
      "96. Cocoa_Z0\n",
      "97. Coffee_Z0\n",
      "98. Corn_U0\n",
      "99. Cotton_Z0\n",
      "100. OJ_U0\n",
      "\n"
     ]
    }
   ],
   "source": [
    "for s in symbols:\n",
    "    count +=1\n",
    "    print(\"{}. {}\".format(count, s.name))\n",
    "    if count ==100: break\n",
    "print()"
   ]
  },
  {
   "cell_type": "code",
   "execution_count": 24,
   "id": "8fc40769",
   "metadata": {},
   "outputs": [],
   "source": [
    "symbols = ['EURUSD', 'GBPUSD', 'USDCHF']"
   ]
  },
  {
   "cell_type": "code",
   "execution_count": 25,
   "id": "6edf06d2",
   "metadata": {},
   "outputs": [],
   "source": [
    "data = pd.DataFrame()"
   ]
  },
  {
   "cell_type": "code",
   "execution_count": 26,
   "id": "0053067f",
   "metadata": {},
   "outputs": [],
   "source": [
    "for i in symbols:\n",
    "    rates = mt5.copy_rates_from_pos(i, mt5.TIMEFRAME_M1, 0, 200)\n",
    "    data[i] = [y['close'] for y in rates]"
   ]
  },
  {
   "cell_type": "code",
   "execution_count": 27,
   "id": "16bc1ea5",
   "metadata": {},
   "outputs": [
    {
     "name": "stdout",
     "output_type": "stream",
     "text": [
      "      EURUSD   GBPUSD   USDCHF\n",
      "0    1.00837  1.18602  0.97719\n",
      "1    1.00807  1.18575  0.97723\n",
      "2    1.00836  1.18621  0.97709\n",
      "3    1.00831  1.18620  0.97701\n",
      "4    1.00838  1.18620  0.97697\n",
      "..       ...      ...      ...\n",
      "195  1.00864  1.18635  0.97637\n",
      "196  1.00864  1.18635  0.97638\n",
      "197  1.00852  1.18634  0.97638\n",
      "198  1.00850  1.18623  0.97638\n",
      "199  1.00854  1.18632  0.97639\n",
      "\n",
      "[200 rows x 3 columns]\n"
     ]
    }
   ],
   "source": [
    "print(data)"
   ]
  },
  {
   "cell_type": "code",
   "execution_count": null,
   "id": "edbd9920",
   "metadata": {},
   "outputs": [],
   "source": []
  }
 ],
 "metadata": {
  "kernelspec": {
   "display_name": "Python 3 (ipykernel)",
   "language": "python",
   "name": "python3"
  },
  "language_info": {
   "codemirror_mode": {
    "name": "ipython",
    "version": 3
   },
   "file_extension": ".py",
   "mimetype": "text/x-python",
   "name": "python",
   "nbconvert_exporter": "python",
   "pygments_lexer": "ipython3",
   "version": "3.9.7"
  }
 },
 "nbformat": 4,
 "nbformat_minor": 5
}
